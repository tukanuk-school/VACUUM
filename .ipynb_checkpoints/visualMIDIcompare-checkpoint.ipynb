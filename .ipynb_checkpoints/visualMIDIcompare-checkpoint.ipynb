{
 "cells": [
  {
   "cell_type": "markdown",
   "metadata": {},
   "source": [
    "# VisualMIDIcompare\n",
    "\n",
    "A testing and analysis workflow\n",
    "\n",
    "\n",
    "## Provide:\n",
    "\n",
    "- Spectrograph \n",
    "- ability to play MIDI files to compare\n",
    "- ability to convert to .wav using existing tools\n",
    "\n",
    "Tool to generate a visual representation of a MIDI file. \n",
    "Optionally, compare to a second MIDI file by diffing the images\n",
    "\n",
    "### Steps:\n",
    "\n",
    "1. Length of the MIDI file (x-axis of image).\n",
    "2. 88 Keys (y-axis of image).\n",
    "3. Plot each note on the image.\n",
    "4. Grayscale to measure velocity (MIDI has 128 levels?)\n",
    "5. Comparision emphasizes:\n",
    "\t1. notes with no match\n",
    "\t2. notes with differnet on/off points\n",
    "\t3. notes with different velocity\n",
    "\n",
    "### Reason: \n",
    "\n",
    "MIDI is a digitial format and can fairly straightforwaly be done numerically. This is not broadly useful to people. \n",
    "\n",
    "Existing MIDI editors have a visual editor but it is manual process to extract and line up images, and diff them.\n",
    "\n",
    "Implementation:\n",
    "\n",
    "- use the same diff rules and colour as github.\n",
    "- command line tool\n",
    "\n",
    "Optional:\n",
    "\n",
    "1. Add numeric comparisions\n",
    "\t- summary statistcs\n",
    "\t- note statistics\n",
    "2. An interface where you can hover over images and get MIDI details\n",
    "3. Choose output iamge format.\n",
    "4. Choose to wrap the image (it will be a long image by default)\n",
    "5. web interface\n",
    "6. Chouse y-axis scale. Default will be 10px per 1/4 note.\n",
    "\n",
    "\n"
   ]
  },
  {
   "cell_type": "code",
   "execution_count": null,
   "metadata": {},
   "outputs": [],
   "source": []
  }
 ],
 "metadata": {
  "kernelspec": {
   "display_name": "Python 3",
   "language": "python",
   "name": "python3"
  },
  "language_info": {
   "codemirror_mode": {
    "name": "ipython",
    "version": 3
   },
   "file_extension": ".py",
   "mimetype": "text/x-python",
   "name": "python",
   "nbconvert_exporter": "python",
   "pygments_lexer": "ipython3",
   "version": "3.7.2"
  }
 },
 "nbformat": 4,
 "nbformat_minor": 2
}
