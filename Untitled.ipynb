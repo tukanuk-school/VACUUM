{
 "cells": [
  {
   "cell_type": "code",
   "execution_count": 6,
   "metadata": {},
   "outputs": [],
   "source": [
    "# Feature extraction example\n",
    "import numpy as np\n",
    "import librosa\n",
    "\n",
    "# Load the example clip\n",
    "y, sr = librosa.load(librosa.util.example_audio_file())\n",
    "\n",
    "# Set the hop length; at 22050 Hz, 512 samples ~= 23ms\n",
    "hop_length = 512\n",
    "\n",
    "# Separate harmonics and percussives into two waveforms\n",
    "y_harmonic, y_percussive = librosa.effects.hpss(y)\n",
    "\n",
    "# Beat track on the percussive signal\n",
    "tempo, beat_frames = librosa.beat.beat_track(y=y_percussive,\n",
    "                                             sr=sr)\n",
    "\n",
    "# Compute MFCC features from the raw signal\n",
    "mfcc = librosa.feature.mfcc(y=y, sr=sr, hop_length=hop_length, n_mfcc=13)\n",
    "\n",
    "# And the first-order differences (delta features)\n",
    "mfcc_delta = librosa.feature.delta(mfcc)\n",
    "\n",
    "# Stack and synchronize between beat events\n",
    "# This time, we'll use the mean value (default) instead of median\n",
    "beat_mfcc_delta = librosa.util.sync(np.vstack([mfcc, mfcc_delta]),\n",
    "                                    beat_frames)\n",
    "\n",
    "# Compute chroma features from the harmonic signal\n",
    "chromagram = librosa.feature.chroma_cqt(y=y_harmonic,\n",
    "                                        sr=sr)\n",
    "\n",
    "# Aggregate chroma features between beat events\n",
    "# We'll use the median value of each feature between beat frames\n",
    "beat_chroma = librosa.util.sync(chromagram,\n",
    "                                beat_frames,\n",
    "                                aggregate=np.median)\n",
    "\n",
    "# Finally, stack all beat-synchronous features together\n",
    "beat_features = np.vstack([beat_chroma, beat_mfcc_delta])"
   ]
  },
  {
   "cell_type": "code",
   "execution_count": 7,
   "metadata": {},
   "outputs": [
    {
     "name": "stdout",
     "output_type": "stream",
     "text": [
      "[[-522.94530523 -494.40971746 -402.84208817 ... -522.94530523\n",
      "  -522.94530523 -522.94530523]\n",
      " [   0.           37.86774603  125.67502994 ...    0.\n",
      "     0.            0.        ]\n",
      " [   0.           31.91965924   48.4149885  ...    0.\n",
      "     0.            0.        ]\n",
      " ...\n",
      " [   0.            5.12084665    7.43777421 ...    0.\n",
      "     0.            0.        ]\n",
      " [   0.            1.92254366    5.80279028 ...    0.\n",
      "     0.            0.        ]\n",
      " [   0.            1.47176985    4.57520636 ...    0.\n",
      "     0.            0.        ]]\n"
     ]
    }
   ],
   "source": [
    "print (mfcc)"
   ]
  },
  {
   "cell_type": "code",
   "execution_count": 8,
   "metadata": {},
   "outputs": [
    {
     "name": "stdout",
     "output_type": "stream",
     "text": [
      "[[0.39551519 0.35764096 0.26434521 ... 0.41130082 0.50761292 0.39690243]\n",
      " [0.76212404 0.36956236 0.1708703  ... 0.42636087 0.53628378 0.80657137]\n",
      " [0.8200356  0.62771595 0.33674228 ... 0.43594053 0.72355858 0.70965668]\n",
      " ...\n",
      " [0.05291524 0.13488453 0.08384524 ... 0.19609585 0.212261   0.19203956]\n",
      " [0.28944725 0.22769627 0.12337843 ... 0.2924722  0.28554613 0.23155668]\n",
      " [0.3712201  0.292441   0.21141882 ... 0.35494624 0.41183826 0.5145329 ]]\n"
     ]
    }
   ],
   "source": [
    "print(chromagram)"
   ]
  },
  {
   "cell_type": "code",
   "execution_count": null,
   "metadata": {},
   "outputs": [],
   "source": []
  }
 ],
 "metadata": {
  "kernelspec": {
   "display_name": "Python 3",
   "language": "python",
   "name": "python3"
  },
  "language_info": {
   "codemirror_mode": {
    "name": "ipython",
    "version": 3
   },
   "file_extension": ".py",
   "mimetype": "text/x-python",
   "name": "python",
   "nbconvert_exporter": "python",
   "pygments_lexer": "ipython3",
   "version": "3.7.2"
  }
 },
 "nbformat": 4,
 "nbformat_minor": 2
}
